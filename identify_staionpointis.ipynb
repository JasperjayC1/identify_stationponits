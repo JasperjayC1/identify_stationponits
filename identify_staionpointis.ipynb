{
 "cells": [
  {
   "cell_type": "code",
   "execution_count": 2,
   "id": "03dd765c",
   "metadata": {
    "ExecuteTime": {
     "end_time": "2022-11-04T13:00:02.170871Z",
     "start_time": "2022-11-04T13:00:01.816542Z"
    }
   },
   "outputs": [
    {
     "name": "stdout",
     "output_type": "stream",
     "text": [
      "([35.5, -100.5], 'Wheeler')\n"
     ]
    }
   ],
   "source": [
    "## identify staion pointis in which gird and print the grid point location\n",
    "def identify_staionpoint_isin_whichgird(lon,lat,loc,site_name): ## lon & lat 1-D array, loc_ls 2-D dataframe [[xx,xx,'xx'],[xx,xx,'xx']]\n",
    "    import numpy as np\n",
    "    import pandas as pd\n",
    "    nx,ny = np.meshgrid(lon,lat)\n",
    "    grid = []\n",
    "    for i in range(nx.shape[0]):\n",
    "        for j in range(nx.shape[1]):\n",
    "            grid.append([ny[i][j],nx[i][j]])\n",
    "    grid_final = grid + loc[loc['name']==site_name].iloc[:,:2].values.tolist()  #loc dataframe transfer to list and then merge to one final list\n",
    "    grid_final1 = pd.DataFrame(sorted(grid_final,key=(lambda x:x[0]))) # according to 'LAT' sort\n",
    "    grid_final2 = pd.DataFrame(sorted(grid_final,key=(lambda x:x[1]))) # according to 'LON' sort\n",
    "    ID = grid_final1[grid_final1==loc[loc['name']==site_name].iloc[:,:2].values.tolist()[0]].dropna().index               \n",
    "    ID2 = grid_final2[grid_final2==loc[loc['name']==site_name].iloc[:,:2].values.tolist()[0]].dropna().index\n",
    "    lat_bound = grid_final1.iloc[ID-1,:][0]\n",
    "    lat_ceil = grid_final1.iloc[ID+1,:][0]\n",
    "    lon_bound = grid_final2.iloc[ID2-1,:][1]\n",
    "    lon_ceil = grid_final2.iloc[ID2+1,:][1]\n",
    "    # print(grid_final.iloc[ID,:])\n",
    "    ## four grid point loction\n",
    "    grid_site = [lat_bound.values.tolist()+lon_ceil.values.tolist(),\n",
    "                 lat_ceil.values.tolist()+lon_ceil.values.tolist(),\n",
    "                 lat_bound.values.tolist()+lon_bound.values.tolist(),\n",
    "                 lat_ceil.values.tolist()+lon_bound.values.tolist()]\n",
    "    ## stastion point loction\n",
    "    sta_site = grid_final1.iloc[ID,:].values.tolist()\n",
    "\n",
    "    ## calculate the distance from station site to the four grid points, compare and select the nearest grid point\n",
    "    import math\n",
    "    def euclideanDistance(p1,p2):\n",
    "        return math.sqrt(((p1[0]-p2[0])**2)+((p1[1]-p2[1])**2))\n",
    "\n",
    "    dis = []\n",
    "    for i in range(4):\n",
    "        dis.append(euclideanDistance(sta_site[0],grid_site[i]))\n",
    "\n",
    "    ## obtain the nearest grid point and then can calculate and graph using this point\n",
    "    final_site = grid_site[np.argmin(dis)]\n",
    "    return final_site,site_name\n",
    "\n",
    "\n",
    "if __name__== \"__main__\":\n",
    "    import numpy as np\n",
    "    import pandas as pd\n",
    "    lat = np.arange(20,50,0.5)\n",
    "    lon=np.arange(-110,-90,0.5)\n",
    "    loc = pd.read_excel('/mnt/c/Users/DELL/Desktop/wrr_site_loc.xlsx').dropna(how='any')\n",
    "#     loc_ls = loc.iloc[:,:2].values.tolist()\n",
    "    site_name = 'Wheeler'\n",
    "    rs = identify_staionpoint_isin_whichgird(lon,lat,loc,site_name)\n",
    "    print(rs)"
   ]
  }
 ],
 "metadata": {
  "kernelspec": {
   "display_name": "Python 3.9.13 ('jay': conda)",
   "language": "python",
   "name": "python3"
  },
  "language_info": {
   "codemirror_mode": {
    "name": "ipython",
    "version": 3
   },
   "file_extension": ".py",
   "mimetype": "text/x-python",
   "name": "python",
   "nbconvert_exporter": "python",
   "pygments_lexer": "ipython3",
   "version": "3.9.13"
  },
  "toc": {
   "base_numbering": 1,
   "nav_menu": {},
   "number_sections": true,
   "sideBar": true,
   "skip_h1_title": false,
   "title_cell": "Table of Contents",
   "title_sidebar": "Contents",
   "toc_cell": false,
   "toc_position": {},
   "toc_section_display": true,
   "toc_window_display": false
  },
  "varInspector": {
   "cols": {
    "lenName": 16,
    "lenType": 16,
    "lenVar": 40
   },
   "kernels_config": {
    "python": {
     "delete_cmd_postfix": "",
     "delete_cmd_prefix": "del ",
     "library": "var_list.py",
     "varRefreshCmd": "print(var_dic_list())"
    },
    "r": {
     "delete_cmd_postfix": ") ",
     "delete_cmd_prefix": "rm(",
     "library": "var_list.r",
     "varRefreshCmd": "cat(var_dic_list()) "
    }
   },
   "types_to_exclude": [
    "module",
    "function",
    "builtin_function_or_method",
    "instance",
    "_Feature"
   ],
   "window_display": false
  },
  "vscode": {
   "interpreter": {
    "hash": "d71c79a7f09fe611599abf0ec57c06e44ca02817856384797434e56fb343c5e1"
   }
  }
 },
 "nbformat": 4,
 "nbformat_minor": 5
}
